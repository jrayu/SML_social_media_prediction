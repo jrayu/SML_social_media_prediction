{
 "cells": [
  {
   "cell_type": "code",
   "execution_count": 143,
   "metadata": {},
   "outputs": [],
   "source": [
    "import matplotlib.pyplot as plt\n",
    "from scipy import stats\n",
    "import numpy as np\n",
    "from statsmodels.formula.api import ols\n",
    "import statsmodels.api as sm\n",
    "import pandas as pd"
   ]
  },
  {
   "cell_type": "code",
   "execution_count": 2,
   "metadata": {},
   "outputs": [],
   "source": [
    "def read_from_txt(input_path):\n",
    "    data = np.genfromtxt(input_path, delimiter=' ',\n",
    "            dtype=[('source', 'U8'),\n",
    "                ('sink', 'U8'), \n",
    "                ('score', 'f8'),\n",
    "                ('class', 'i8')])\n",
    "    return data"
   ]
  },
  {
   "cell_type": "code",
   "execution_count": 3,
   "metadata": {},
   "outputs": [],
   "source": [
    "def _read_data(path):\n",
    "    data = []\n",
    "    for p in path:\n",
    "        data.append(read_from_txt(p))\n",
    "\n",
    "    features = np.array([d['score'] for d in data])\n",
    "    labels = data[0]['class']\n",
    "\n",
    "    combined_features = features[0]\n",
    "\n",
    "    if features.shape[0] == 1:\n",
    "        return combined_features.reshape(-1, 1), labels\n",
    "\n",
    "    for f in features[1:]:\n",
    "        combined_features = np.c_[combined_features, f]\n",
    "\n",
    "    return combined_features, labels"
   ]
  },
  {
   "cell_type": "code",
   "execution_count": 241,
   "metadata": {},
   "outputs": [],
   "source": [
    "data_path = [\n",
    "    '../output/simrank/prop/simrank_clm_02.txt',\n",
    "    '../output/propflow/prop/propflow_clm.txt',\n",
    "    '../output/localpath/prop/localpath_clm_11.txt',\n",
    "    \n",
    "    \n",
    "    '../output/jaccardneighbor/prop/jaccard_neighbor_clm_02.txt',\n",
    "    '../output/jaccardneighbor/prop/jaccard_neighbor_inbound_clm_02.txt',\n",
    "    \n",
    "    '../output/consineneighbor/prop/consine_neighbor_inbound_clm.txt',\n",
    "    \n",
    "    '../output/friendmeasure/prop/friendmeasure_clm_03.txt',\n",
    "    \n",
    "    '../output/shortestpath/prop/shortestpath_clm_02.txt',\n",
    "    \n",
    "    '../output/outdegree/prop/outdegree_clm.txt',\n",
    "    '../output/indegree/prop/indegree_clm.txt',\n",
    "]\n",
    "\n",
    "test_path = [\n",
    "    '../output/simrank/simrank_test_clm_02.txt',\n",
    "    '../output/propflow/propflow_test_clm.txt',\n",
    "    '../output/localpath/localpath_test_clm_11.txt',\n",
    "    \n",
    "    \n",
    "    '../output/jaccardneighbor/jaccard_neighbor_test_clm_02.txt',\n",
    "    '../output/jaccardneighbor/jaccard_neighbor_inbound_test_clm_02.txt',\n",
    "    '../output/consineneighbor/consine_neighbor_inbound_test_clm.txt',\n",
    "    \n",
    "    '../output/friendmeasure/friendmeasure_test_clm_03.txt',\n",
    "    \n",
    "    '../output/shortestpath/shortestpath_test_clm_02.txt',\n",
    "    \n",
    "    '../output/outdegree/outdegree_test_clm.txt',\n",
    "    '../output/indegree/indegree_test_clm.txt',\n",
    "]\n",
    "\n",
    "features, labels = _read_data(data_path)\n",
    "test_features, _ = _read_data(test_path)"
   ]
  },
  {
   "cell_type": "code",
   "execution_count": 243,
   "metadata": {},
   "outputs": [
    {
     "name": "stdout",
     "output_type": "stream",
     "text": [
      "0.28329223200000003 0.27568576000000006\n",
      "1 -- p-value for simrank: 0.21737707428781045\n",
      "\n",
      "\n",
      "0.00030448648078152546 0.00022050444453299844\n",
      "2 -- p-value for propflow: 0.11153282298401158\n",
      "\n",
      "\n",
      "0.23223892000000004 0.22377500000000003\n",
      "3 -- p-value for localpath: 0.34677770672784203\n",
      "\n",
      "\n",
      "0.017621382064257667 0.017229076133867167\n",
      "4 -- p-value for jaccardneighbor: 0.5651527125884062\n",
      "\n",
      "\n",
      "0.012068221615526046 0.013201252431769677\n",
      "5 -- p-value for jaccardneighbor: 0.057887721241631745\n",
      "\n",
      "\n",
      "0.00022721888587799336 0.00022304052012073322\n",
      "6 -- p-value for consineneighbor: 0.8896464519881283\n",
      "\n",
      "\n",
      "0.1754903082951414 0.16854030339729098\n",
      "7 -- p-value for friendmeasure: 0.04245868910626015\n",
      "\n",
      "\n",
      "2.33185 2.3455\n",
      "8 -- p-value for shortestpath: 0.6932541159776802\n",
      "\n",
      "\n",
      "1177.9588 1358.66\n",
      "9 -- p-value for outdegree: 0.30782207021222224\n",
      "\n",
      "\n",
      "1819.7752 1805.3105\n",
      "10 -- p-value for indegree: 0.9825337802922809\n",
      "\n",
      "\n"
     ]
    }
   ],
   "source": [
    "# print(stats.ttest_rel(features[:, 5], features[:, 6]))\n",
    "\n",
    "for i in range(0, len(test_path)):\n",
    "    fe_1 = features[:, i]\n",
    "\n",
    "    fe_2 = test_features[:, i]\n",
    "\n",
    "    name = test_path[i].split('/')[2]\n",
    "    print(np.mean(fe_1), np.mean(fe_2))\n",
    "    print(f'{i + 1} -- p-value for {name}:', stats.ttest_ind(fe_2, fe_1).pvalue)\n",
    "    print('\\n')\n",
    "    # d = np.c_[fe_2, fe_3]\n",
    "    # plt.hist(d)\n",
    "    # plt.show()"
   ]
  },
  {
   "cell_type": "code",
   "execution_count": 278,
   "metadata": {},
   "outputs": [
    {
     "name": "stdout",
     "output_type": "stream",
     "text": [
      "[1. 4. 1. ... 1. 1. 1.]\n",
      "5076\n",
      "2.33185 2.3455\n"
     ]
    }
   ],
   "source": [
    "# 540, 199, 74, 0\n",
    "high_features = features[:, 7][features[:, 8] > 540]\n",
    "high_features = features[:, 7][features[:, 8] > 540]\n",
    "print(high_features)\n",
    "print(high_features[].size)\n",
    "\n",
    "print(np.mean(features[:, 7]), np.mean(test_features[:, 7]))"
   ]
  },
  {
   "cell_type": "code",
   "execution_count": 296,
   "metadata": {},
   "outputs": [
    {
     "name": "stdout",
     "output_type": "stream",
     "text": [
      "simrank\n",
      "                        sum_sq       df            F         PR(>F)\n",
      "Intercept           194.381213      1.0  3278.958442   0.000000e+00\n",
      "C(group)             31.188069      3.0   175.367398  3.114178e-112\n",
      "C(label)             29.711047      1.0   501.186742  1.166589e-109\n",
      "C(group):C(label)     4.132454      3.0    23.236374   5.225545e-15\n",
      "Residual           1185.153544  19992.0          NaN            NaN\n",
      "\n",
      "\n",
      "propflow\n",
      "                         sum_sq       df           F        PR(>F)\n",
      "Intercept          1.095509e-10      1.0    0.000022  9.962380e-01\n",
      "C(group)           1.304144e-10      3.0    0.000009  1.000000e+00\n",
      "C(label)           1.465669e-05      1.0    2.974383  8.460784e-02\n",
      "C(group):C(label)  2.101479e-03      3.0  142.155842  3.810587e-91\n",
      "Residual           9.851341e-02  19992.0         NaN           NaN\n",
      "\n",
      "\n",
      "localpath\n",
      "                        sum_sq       df            F         PR(>F)\n",
      "Intercept            66.355426      1.0   582.971458  5.553410e-127\n",
      "C(group)             30.092092      3.0    88.125577   1.200735e-56\n",
      "C(label)            219.276108      1.0  1926.469621   0.000000e+00\n",
      "C(group):C(label)    31.548296      3.0    92.390113   2.231125e-59\n",
      "Residual           2275.544811  19992.0          NaN            NaN\n",
      "\n",
      "\n",
      "jaccardneighbor\n",
      "                      sum_sq       df           F         PR(>F)\n",
      "Intercept           0.345419      1.0  491.166312  1.564564e-107\n",
      "C(group)            0.114640      3.0   54.337201   5.687946e-35\n",
      "C(label)            0.565108      1.0  803.551119  2.420972e-173\n",
      "C(group):C(label)   0.183103      3.0   86.787439   8.642106e-56\n",
      "Residual           14.059646  19992.0         NaN            NaN\n",
      "\n",
      "\n",
      "jaccardneighbor\n",
      "                      sum_sq       df           F         PR(>F)\n",
      "Intercept           0.172171      1.0  319.080433   8.161141e-71\n",
      "C(group)            0.100190      3.0   61.893220   7.996742e-40\n",
      "C(label)            0.380410      1.0  705.006129  1.076722e-152\n",
      "C(group):C(label)   0.003672      3.0    2.268593   7.838695e-02\n",
      "Residual           10.787363  19992.0         NaN            NaN\n",
      "\n",
      "\n",
      "consineneighbor\n",
      "                         sum_sq       df           F         PR(>F)\n",
      "Intercept          1.518578e-07      1.0    0.098895   7.531628e-01\n",
      "C(group)           1.169070e-08      3.0    0.002538   9.998237e-01\n",
      "C(label)           2.189592e-06      1.0    1.425939   2.324424e-01\n",
      "C(group):C(label)  1.097090e-03      3.0  238.154454  7.692635e-152\n",
      "Residual           3.069859e-02  19992.0         NaN            NaN\n",
      "\n",
      "\n",
      "friendmeasure\n",
      "                       sum_sq       df            F         PR(>F)\n",
      "Intercept           98.854796      1.0  5681.364396   0.000000e+00\n",
      "C(group)            22.196448      3.0   425.223371  8.174612e-268\n",
      "C(label)             3.467597      1.0   199.289112   4.913415e-45\n",
      "C(group):C(label)   15.829209      3.0   303.244444  1.545028e-192\n",
      "Residual           347.857476  19992.0          NaN            NaN\n",
      "\n",
      "\n",
      "shortestpath\n",
      "                         sum_sq       df            F         PR(>F)\n",
      "Intercept          11591.423789      1.0  8871.934798   0.000000e+00\n",
      "C(group)            4049.487045      3.0  1033.142712   0.000000e+00\n",
      "C(label)            1121.238071      1.0   858.181983  9.565632e-185\n",
      "C(group):C(label)    690.204683      3.0   176.091424  1.083102e-112\n",
      "Residual           26120.091012  19992.0          NaN            NaN\n",
      "\n",
      "\n"
     ]
    }
   ],
   "source": [
    "def build_features(features, labels, f_index, index, thresholds):\n",
    "    fs, ls, gs = [], [], []\n",
    "    for i, t in enumerate(thresholds):\n",
    "        if i == 0:\n",
    "            fs.append(features[:, f_index][(features[:, index] > t)])\n",
    "            ls.append(labels[features[:, index] > t])\n",
    "            gs.append(np.repeat(str(i), ls[i].size))\n",
    "        else:\n",
    "            fs.append(features[:, f_index][(features[:, index] > t) & (features[:, index] <= thresholds[i-1])])\n",
    "            ls.append(labels[(features[:, index] > t) & (features[:, index] <= thresholds[i-1])])\n",
    "            gs.append(np.repeat(str(i), ls[i].size))\n",
    "        \n",
    "    new_f = np.hstack(tuple(fs))\n",
    "    new_l = np.hstack(tuple(ls))\n",
    "    new_g = np.hstack(tuple(gs))\n",
    "        \n",
    "    return (new_f, new_l, new_g)\n",
    "\n",
    "\n",
    "def anova(new_f, new_l, new_g):\n",
    "    df = pd.DataFrame(data={'feature': new_f, 'label': new_l, 'group': new_g})\n",
    "    formula = 'feature ~ C(group) + C(label) + C(group):C(label)'\n",
    "    model = ols(formula, df).fit()\n",
    "    aov_table = sm.stats.anova_lm(model, typ=3)\n",
    "    print(aov_table)\n",
    "\n",
    "thresholds = [540, 199, 74, 0]\n",
    "for i in range(len(test_path) - 2):\n",
    "    name = test_path[i].split('/')[2]\n",
    "    print(name)\n",
    "    new_f, new_l, new_g = build_features(features, labels, i, 8, thresholds)\n",
    "    anova(new_f, new_l, new_g)\n",
    "    print('\\n')"
   ]
  },
  {
   "cell_type": "code",
   "execution_count": 231,
   "metadata": {},
   "outputs": [
    {
     "name": "stdout",
     "output_type": "stream",
     "text": [
      "[[ 1.          0.15744074  0.55357209  0.54505603  0.51888811  0.24772662\n",
      "   0.59429671  0.04453241 -0.03345855]\n",
      " [ 0.15744074  1.          0.12595447  0.29216658  0.2281033   0.32582197\n",
      "   0.12200431 -0.01944418  0.0167017 ]\n",
      " [ 0.55357209  0.12595447  1.          0.64196586  0.5711674   0.09010436\n",
      "   0.31656484  0.15237516  0.01898592]\n",
      " [ 0.54505603  0.29216658  0.64196586  1.          0.75792409  0.39714653\n",
      "   0.49309075  0.07381858 -0.03053302]\n",
      " [ 0.51888811  0.2281033   0.5711674   0.75792409  1.          0.44524697\n",
      "   0.42877761  0.15795065 -0.02434278]\n",
      " [ 0.24772662  0.32582197  0.09010436  0.39714653  0.44524697  1.\n",
      "   0.27362262 -0.02533707 -0.00320902]\n",
      " [ 0.59429671  0.12200431  0.31656484  0.49309075  0.42877761  0.27362262\n",
      "   1.          0.07484691 -0.01697095]\n",
      " [ 0.04453241 -0.01944418  0.15237516  0.07381858  0.15795065 -0.02533707\n",
      "   0.07484691  1.         -0.00774421]\n",
      " [-0.03345855  0.0167017   0.01898592 -0.03053302 -0.02434278 -0.00320902\n",
      "  -0.01697095 -0.00774421  1.        ]]\n",
      "\n",
      "\n",
      "[[ 1.          0.19680803  0.55261085  0.59423551  0.4702266   0.30499039\n",
      "   0.58647607  0.02919238 -0.02991463]\n",
      " [ 0.19680803  1.          0.09844555  0.28510165  0.2307961   0.40898843\n",
      "   0.17846284 -0.01552796 -0.00283296]\n",
      " [ 0.55261085  0.09844555  1.          0.57255901  0.40100323  0.08570122\n",
      "   0.29819002  0.09113281  0.02744668]\n",
      " [ 0.59423551  0.28510165  0.57255901  1.          0.65669208  0.38119882\n",
      "   0.50188266  0.05295266 -0.03294659]\n",
      " [ 0.4702266   0.2307961   0.40100323  0.65669208  1.          0.50888554\n",
      "   0.3980405   0.1119637  -0.02572516]\n",
      " [ 0.30499039  0.40898843  0.08570122  0.38119882  0.50888554  1.\n",
      "   0.3061779  -0.02507313 -0.00512126]\n",
      " [ 0.58647607  0.17846284  0.29819002  0.50188266  0.3980405   0.3061779\n",
      "   1.          0.09126357 -0.03464844]\n",
      " [ 0.02919238 -0.01552796  0.09113281  0.05295266  0.1119637  -0.02507313\n",
      "   0.09126357  1.         -0.0060095 ]\n",
      " [-0.02991463 -0.00283296  0.02744668 -0.03294659 -0.02572516 -0.00512126\n",
      "  -0.03464844 -0.0060095   1.        ]]\n"
     ]
    }
   ],
   "source": [
    "print(np.corrcoef(features.T))\n",
    "print('\\n')\n",
    "print(np.corrcoef(test_features.T))"
   ]
  },
  {
   "cell_type": "code",
   "execution_count": 4,
   "metadata": {},
   "outputs": [],
   "source": [
    "def read_train_file(input_path):\n",
    "    \"\"\"\n",
    "    : param input_path: the path of train file\n",
    "    : data format: source sink1 sink2 sink3\n",
    "    \"\"\"\n",
    "    set_dict = {}\n",
    "\n",
    "    with open(input_path) as reader:\n",
    "        for r in reader:\n",
    "            infos = r.split()\n",
    "            set_dict[infos[0]] = set(infos[1:])\n",
    "    \n",
    "    return set_dict"
   ]
  },
  {
   "cell_type": "code",
   "execution_count": 5,
   "metadata": {},
   "outputs": [],
   "source": [
    "set_dict = read_train_file('../data/train.txt')\n",
    "inbound_dict = read_train_file('../output/inbound_collect.txt')"
   ]
  },
  {
   "cell_type": "code",
   "execution_count": 95,
   "metadata": {},
   "outputs": [],
   "source": [
    "all_dict = read_train_file('../output/collect.txt')"
   ]
  },
  {
   "cell_type": "code",
   "execution_count": 45,
   "metadata": {},
   "outputs": [
    {
     "name": "stdout",
     "output_type": "stream",
     "text": [
      "2\n"
     ]
    }
   ],
   "source": [
    "print(2)"
   ]
  },
  {
   "cell_type": "code",
   "execution_count": 290,
   "metadata": {},
   "outputs": [],
   "source": [
    "s1, s2, s3, s4 = [], [], [], []\n",
    "t1, t2, t3, t4 = [], [], [], []\n",
    "\n",
    "with open('../output/fakedataprop/fake_origin_kim.txt') as reader:\n",
    "    for r in reader:\n",
    "        source, sink, _ = r.split()\n",
    "        s1.append(len(set_dict[source]))\n",
    "        if sink in set_dict:\n",
    "            s2.append(len(set_dict[sink]))\n",
    "        t1.append(len(inbound_dict[source]))\n",
    "        t2.append(len(inbound_dict[sink]))\n",
    "        \n",
    "        \n",
    "with open('../output/test.txt') as reader:\n",
    "    for r in reader:\n",
    "        source, sink, _ = r.split()\n",
    "        s3.append(len(set_dict[source]))\n",
    "        if sink in set_dict:\n",
    "            s4.append(len(set_dict[sink]))\n",
    "        t3.append(len(inbound_dict[source]))\n",
    "        t4.append(len(inbound_dict[sink]))"
   ]
  },
  {
   "cell_type": "code",
   "execution_count": 291,
   "metadata": {},
   "outputs": [
    {
     "name": "stdout",
     "output_type": "stream",
     "text": [
      "outbound source\n",
      "173.0\n",
      "161.0\n",
      "1284.3779\n",
      "1323.048\n",
      "\n",
      "\n",
      "outbound sink\n",
      "198.0\n",
      "294.0\n",
      "9429.536501714845\n",
      "9602.715425531915\n",
      "\n",
      "\n",
      "inbound source\n",
      "38.0\n",
      "36.0\n",
      "94.4748\n",
      "90.9115\n",
      "\n",
      "\n",
      "inbound sink\n",
      "27.0\n",
      "33.0\n",
      "145.36995\n",
      "143.195\n",
      "\n",
      "\n"
     ]
    }
   ],
   "source": [
    "a1 = np.array(s1)\n",
    "a2 = np.array(s2)\n",
    "a3 = np.array(s3)\n",
    "a4 = np.array(s4)\n",
    "\n",
    "b1 = np.array(t1)\n",
    "b2 = np.array(t2)\n",
    "b3 = np.array(t3)\n",
    "b4 = np.array(t4)\n",
    "\n",
    "print('outbound source')\n",
    "print(np.median(a1))\n",
    "print(np.median(a3))\n",
    "print(np.mean(a1))\n",
    "print(np.mean(a3))\n",
    "print('\\n')\n",
    "\n",
    "print('outbound sink')\n",
    "print(np.median(a2))\n",
    "print(np.median(a4))\n",
    "print(np.mean(a2))\n",
    "print(np.mean(a4))\n",
    "print('\\n')\n",
    "\n",
    "print('inbound source')\n",
    "print(np.median(b1))\n",
    "print(np.median(b3))\n",
    "print(np.mean(b1))\n",
    "print(np.mean(b3))\n",
    "print('\\n')\n",
    "\n",
    "print('inbound sink')\n",
    "print(np.median(b2))\n",
    "print(np.median(b4))\n",
    "print(np.mean(b2))\n",
    "print(np.mean(b4))\n",
    "print('\\n')"
   ]
  },
  {
   "cell_type": "code",
   "execution_count": 76,
   "metadata": {},
   "outputs": [
    {
     "name": "stdout",
     "output_type": "stream",
     "text": [
      "1081.3556533480023\n",
      "1138.1650825412705\n"
     ]
    },
    {
     "data": {
      "text/plain": [
       "<matplotlib.collections.PathCollection at 0x2697e76d8>"
      ]
     },
     "execution_count": 76,
     "metadata": {},
     "output_type": "execute_result"
    },
    {
     "data": {
      "image/png": "[encoded data removed]",
      "text/plain": [
       "<Figure size 432x288 with 1 Axes>"
      ]
     },
     "metadata": {
      "needs_background": "light"
     },
     "output_type": "display_data"
    }
   ],
   "source": [
    "a3_clean = a3[a3!=max(a3)]\n",
    "# plt.scatter(np.arange(a3_clean.size), a3_clean)\n",
    "a1_clean = a1[a1<350000]\n",
    "print(np.mean(a1_clean))\n",
    "print(np.mean(a3_clean))\n",
    "plt.scatter(np.arange(a2.size), a2)"
   ]
  },
  {
   "cell_type": "code",
   "execution_count": 160,
   "metadata": {},
   "outputs": [],
   "source": [
    "t1, t2, t3, t4 = [], [], [], []\n",
    "\n",
    "\n",
    "with open('../output/fakedataprop/fake_origin_kim.txt') as reader:\n",
    "    for r in reader:\n",
    "        source, sink, _ = r.split()\n",
    "        t1.append(len(set_dict[source]))\n",
    "        if sink in set_dict:\n",
    "            t2.append(len(set_dict[sink]))\n",
    "        else:\n",
    "            t2.append(0)\n",
    "        \n",
    "with open('../output/test.txt') as reader:\n",
    "    for r in reader:\n",
    "        source, sink, _ = r.split()\n",
    "        t3.append(len(set_dict[source]))\n",
    "        if sink in set_dict:\n",
    "            t4.append(len(set_dict[sink]))\n",
    "        else:\n",
    "            t4.append(0)"
   ]
  },
  {
   "cell_type": "code",
   "execution_count": 161,
   "metadata": {},
   "outputs": [
    {
     "data": {
      "text/plain": [
       "<matplotlib.collections.PathCollection at 0x26c647cf8>"
      ]
     },
     "execution_count": 161,
     "metadata": {},
     "output_type": "execute_result"
    },
    {
     "data": {
      "image/png": "[encoded data removed]",
      "text/plain": [
       "<Figure size 432x288 with 1 Axes>"
      ]
     },
     "metadata": {
      "needs_background": "light"
     },
     "output_type": "display_data"
    }
   ],
   "source": [
    "b1 = np.array(t1)\n",
    "b2 = np.array(t2)\n",
    "b3 = np.array(t3)\n",
    "b4 = np.array(t4)\n",
    "\n",
    "plt.scatter(np.arange(b4.size), b4)"
   ]
  },
  {
   "cell_type": "code",
   "execution_count": 162,
   "metadata": {},
   "outputs": [
    {
     "name": "stdout",
     "output_type": "stream",
     "text": [
      "all done!\n"
     ]
    }
   ],
   "source": [
    "with open('../output/fakedataprop/fake_origin_clm.txt') as reader:\n",
    "    for r in reader:\n",
    "        source, sink, label = r.split()\n",
    "        if label == '1' and sink not in set_dict[source]:\n",
    "            print('yes')\n",
    "        if label == '0' and sink in set_dict[source]:\n",
    "            print('abnormal')\n",
    "    print('all done!')"
   ]
  },
  {
   "cell_type": "code",
   "execution_count": 97,
   "metadata": {},
   "outputs": [
    {
     "data": {
      "text/plain": [
       "array([[0.00000000e+00],\n",
       "       [0.00000000e+00],\n",
       "       [1.20031548e-07],\n",
       "       ...,\n",
       "       [2.38884198e-04],\n",
       "       [6.49955889e-08],\n",
       "       [0.00000000e+00]])"
      ]
     },
     "execution_count": 97,
     "metadata": {},
     "output_type": "execute_result"
    }
   ],
   "source": [
    "features"
   ]
  },
  {
   "cell_type": "code",
   "execution_count": 105,
   "metadata": {},
   "outputs": [
    {
     "name": "stdout",
     "output_type": "stream",
     "text": [
      "[   0    0    0    0    0  292    0    0    0  508    0    0    0   18\n",
      "    0    0  134 3168    0 1051    0    0]\n"
     ]
    }
   ],
   "source": [
    "print(b2[features[:,0]>0.025])"
   ]
  },
  {
   "cell_type": "code",
   "execution_count": null,
   "metadata": {},
   "outputs": [],
   "source": []
  }
 ],
 "metadata": {
  "kernelspec": {
   "display_name": "Python 3",
   "language": "python",
   "name": "python3"
  },
  "language_info": {
   "codemirror_mode": {
    "name": "ipython",
    "version": 3
   },
   "file_extension": ".py",
   "mimetype": "text/x-python",
   "name": "python",
   "nbconvert_exporter": "python",
   "pygments_lexer": "ipython3",
   "version": "3.6.5"
  }
 },
 "nbformat": 4,
 "nbformat_minor": 2
}
